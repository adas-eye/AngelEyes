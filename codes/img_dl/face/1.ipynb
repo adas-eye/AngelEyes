{
 "cells": [
  {
   "cell_type": "code",
   "execution_count": 4,
   "metadata": {},
   "outputs": [],
   "source": [
    "import cv2 as cv\n",
    "import numpy as np\n",
    "\n",
    "face_cascade = cv.CascadeClassifier('F://haarcascade_frontalface_default.xml')\n",
    "eye_cascade = cv.CascadeClassifier('F://haarcascade_eye.xml')\n",
    "img1 = cv.imread('F://2.png')\n",
    "img = cv.cvtColor(img1, cv.COLOR_BGR2GRAY)   \n",
    "\n",
    "faces = face_cascade.detectMultiScale(img, 1.3, 5)\n",
    "for (x, y, w, h) in faces:\n",
    "    img1 = cv.rectangle(img1, (x, y), (x+w, y+h), (255,0,0), 2)\n",
    "    roi_gray = img[y:y+h, x:x+w]\n",
    "    eyes = eye_cascade.detectMultiScale(roi_gray)\n",
    "    for(ex, ey, ew, eh) in eyes:\n",
    "        img1 = cv.rectangle(img1, (x+ex, y+ey),(x+ex+ew,y+ey+eh),(0,255,0),2)\n",
    "cv.imshow('image', img1)\n",
    "cv.waitKey(0)\n",
    "cv.destroyAllWindows()\n"
   ]
  },
  {
   "cell_type": "code",
   "execution_count": null,
   "metadata": {
    "collapsed": true
   },
   "outputs": [],
   "source": []
  }
 ],
 "metadata": {
  "kernelspec": {
   "display_name": "Python 3",
   "language": "python",
   "name": "python3"
  },
  "language_info": {
   "codemirror_mode": {
    "name": "ipython",
    "version": 3
   },
   "file_extension": ".py",
   "mimetype": "text/x-python",
   "name": "python",
   "nbconvert_exporter": "python",
   "pygments_lexer": "ipython3",
   "version": "3.6.1"
  }
 },
 "nbformat": 4,
 "nbformat_minor": 2
}
